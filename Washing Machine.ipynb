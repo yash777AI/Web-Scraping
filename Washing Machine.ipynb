{
 "cells": [
  {
   "cell_type": "code",
   "execution_count": 2,
   "metadata": {},
   "outputs": [
    {
     "name": "stderr",
     "output_type": "stream",
     "text": [
      "C:\\Users\\yashp\\AppData\\Local\\Temp\\ipykernel_13364\\1222050232.py:3: DeprecationWarning: \n",
      "Pyarrow will become a required dependency of pandas in the next major release of pandas (pandas 3.0),\n",
      "(to allow more performant data types, such as the Arrow string type, and better interoperability with other libraries)\n",
      "but was not found to be installed on your system.\n",
      "If this would cause problems for you,\n",
      "please provide us feedback at https://github.com/pandas-dev/pandas/issues/54466\n",
      "        \n",
      "  import pandas as pd\n"
     ]
    }
   ],
   "source": [
    "import requests\n",
    "from bs4 import BeautifulSoup\n",
    "import pandas as pd"
   ]
  },
  {
   "cell_type": "code",
   "execution_count": 3,
   "metadata": {},
   "outputs": [
    {
     "name": "stdout",
     "output_type": "stream",
     "text": [
      "['SAMSUNG 8 kg 5 Star, AI Ecobubble,� Wi-Fi, Hygiene Steam,Digital Inverter Fully Automatic Front Load W...', 'SAMSUNG 8 kg 5 Star, Inverter, Hygiene Steam Digital Inverter Fully Automatic Front Load Washing Machi...', 'IFB 6 kg Steam Wash, Hard Water Wash, Active Color Protection 4 years Comprehensive Warranty Fully Aut...', 'LG 7 kg 5 Star with Steam, Inverter Direct Drive Technology, 6 Motion DD, Touch Panel and 1200 RPM Ful...', 'SAMSUNG 6 kg Inverter 5 Star Hygiene Steam Fully Automatic Front Load Washing Machine with In-built He...', 'LG 6.5 kg 5 Star with Steam, Inverter Direct Drive, 6 Motion Direct Drive, Touch Panel, 1000 RPM Fully...', 'IFB 7 kg Powered by AI, 5 Star, 4 years Comprehensive Warranty with 2x Steam Cycle Fully Automatic Fro...', 'Thomson 7.5 kg 5 Star Aqua Magic Semi Automatic Top Load Washing Machine Black, Grey', 'IFB 8 kg Powered by AI, 5 Star, 4 years Comprehensive Warranty with 2x Steam Cycle Fully Automatic Fro...', 'SAMSUNG 6.5 kg with Steam Fully Automatic Front Load Washing Machine with In-built Heater White', 'SAMSUNG 7 kg 5 star, Ecobubble, Super Speed, Digital Inverter, Fully Automatic Top Load Washing Machin...', 'SAMSUNG 9 kg 5 star, Ecobubble, Wi-Fi, Digital Inverter, Fully Automatic Top Load Washing Machine Grey', 'LG 7 kg 5 Star with Steam, Inverter Direct Drive Technology, 6 Motion Direct Drive, Touch Panel and 12...', 'BOSCH 7 kg with Steam Fully Automatic Front Load Washing Machine with In-built Heater Black, Grey', 'LG 8 kg 5 Star with Steam, Inverter Direct Drive, 6 Motion Direct Drive, Touch Panel and 1400 RPM Full...', 'SAMSUNG 9 kg Fully Automatic Front Load Washing Machine Black', 'Thomson 7 kg 5 Star Aqua Magic Semi Automatic Top Load Washing Machine Blue, White', 'SAMSUNG 9 kg 5 star, Ecobubble, Super Speed, Wi-Fi, Digital Inverter, Hygiene Steam, Fully Automatic T...', 'BOSCH 8 kg AntiTangle,AntiVibration,1400RPM Fully Automatic Front Load Washing Machine with In-built H...', 'IFB 7 kg 5 Star 2X Power Steam,Hard Water Wash Fully Automatic Front Load Washing Machine with In-buil...', 'Thomson 9 kg 5 Star Aqua Magic Double Waterfall Semi Automatic Top Load Washing Machine Black, Grey', 'Thomson 7 kg PureWash Fully Automatic Top Load Washing Machine Grey', 'realme TechLife 6 kg 5 Star Power Clean Fully Automatic Front Load Washing Machine with In-built Heate...', 'IFB 6.5 kg Powered by AI, 5 Star, 4 years Comprehensive Warranty� with 2x Steam Cycle Fully Automatic ...', 'SAMSUNG 8 kg 5 Star, AI Ecobubble,� Wi-Fi, Hygiene Steam,Digital Inverter Fully Automatic Front Load W...', 'SAMSUNG 8 kg 5 Star, Inverter, Hygiene Steam Digital Inverter Fully Automatic Front Load Washing Machi...', 'IFB 6 kg Steam Wash, Hard Water Wash, Active Color Protection 4 years Comprehensive Warranty Fully Aut...', 'LG 7 kg 5 Star with Steam, Inverter Direct Drive Technology, 6 Motion DD, Touch Panel and 1200 RPM Ful...', 'SAMSUNG 6 kg Inverter 5 Star Hygiene Steam Fully Automatic Front Load Washing Machine with In-built He...', 'LG 6.5 kg 5 Star with Steam, Inverter Direct Drive, 6 Motion Direct Drive, Touch Panel, 1000 RPM Fully...', 'IFB 7 kg Powered by AI, 5 Star, 4 years Comprehensive Warranty with 2x Steam Cycle Fully Automatic Fro...', 'Thomson 7.5 kg 5 Star Aqua Magic Semi Automatic Top Load Washing Machine Black, Grey', 'IFB 8 kg Powered by AI, 5 Star, 4 years Comprehensive Warranty with 2x Steam Cycle Fully Automatic Fro...', 'SAMSUNG 6.5 kg with Steam Fully Automatic Front Load Washing Machine with In-built Heater White', 'SAMSUNG 9 kg 5 star, Ecobubble, Wi-Fi, Digital Inverter, Fully Automatic Top Load Washing Machine Grey', 'SAMSUNG 7 kg 5 star, Ecobubble, Super Speed, Digital Inverter, Fully Automatic Top Load Washing Machin...', 'LG 7 kg 5 Star with Steam, Inverter Direct Drive Technology, 6 Motion Direct Drive, Touch Panel and 12...', 'BOSCH 7 kg with Steam Fully Automatic Front Load Washing Machine with In-built Heater Black, Grey', 'LG 8 kg 5 Star with Steam, Inverter Direct Drive, 6 Motion Direct Drive, Touch Panel and 1400 RPM Full...', 'SAMSUNG 9 kg Fully Automatic Front Load Washing Machine Black', 'SAMSUNG 9 kg 5 star, Ecobubble, Super Speed, Wi-Fi, Digital Inverter, Hygiene Steam, Fully Automatic T...', 'Thomson 7 kg PureWash Fully Automatic Top Load Washing Machine Grey', 'BOSCH 8 kg AntiTangle,AntiVibration,1400RPM Fully Automatic Front Load Washing Machine with In-built H...', 'IFB 7 kg 5 Star 2X Power Steam,Hard Water Wash Fully Automatic Front Load Washing Machine with In-buil...', 'Thomson 9 kg 5 Star Aqua Magic Double Waterfall Semi Automatic Top Load Washing Machine Black, Grey', 'Thomson 7 kg 5 Star Aqua Magic Semi Automatic Top Load Washing Machine Blue, White', 'realme TechLife 6 kg 5 Star Power Clean Fully Automatic Front Load Washing Machine with In-built Heate...', 'IFB 6.5 kg Powered by AI, 5 Star, 4 years Comprehensive Warranty� with 2x Steam Cycle Fully Automatic ...', 'SAMSUNG 8 kg 5 Star, AI Ecobubble,� Wi-Fi, Hygiene Steam,Digital Inverter Fully Automatic Front Load W...', 'SAMSUNG 8 kg 5 Star, Inverter, Hygiene Steam Digital Inverter Fully Automatic Front Load Washing Machi...', 'IFB 6 kg Steam Wash, Hard Water Wash, Active Color Protection 4 years Comprehensive Warranty Fully Aut...', 'LG 7 kg 5 Star with Steam, Inverter Direct Drive Technology, 6 Motion DD, Touch Panel and 1200 RPM Ful...', 'SAMSUNG 6 kg Inverter 5 Star Hygiene Steam Fully Automatic Front Load Washing Machine with In-built He...', 'LG 6.5 kg 5 Star with Steam, Inverter Direct Drive, 6 Motion Direct Drive, Touch Panel, 1000 RPM Fully...', 'IFB 7 kg Powered by AI, 5 Star, 4 years Comprehensive Warranty with 2x Steam Cycle Fully Automatic Fro...', 'Thomson 7.5 kg 5 Star Aqua Magic Semi Automatic Top Load Washing Machine Black, Grey', 'IFB 8 kg Powered by AI, 5 Star, 4 years Comprehensive Warranty with 2x Steam Cycle Fully Automatic Fro...', 'SAMSUNG 6.5 kg with Steam Fully Automatic Front Load Washing Machine with In-built Heater White', 'SAMSUNG 7 kg 5 star, Ecobubble, Super Speed, Digital Inverter, Fully Automatic Top Load Washing Machin...', 'SAMSUNG 9 kg 5 star, Ecobubble, Wi-Fi, Digital Inverter, Fully Automatic Top Load Washing Machine Grey', 'LG 7 kg 5 Star with Steam, Inverter Direct Drive Technology, 6 Motion Direct Drive, Touch Panel and 12...', 'BOSCH 7 kg with Steam Fully Automatic Front Load Washing Machine with In-built Heater Black, Grey', 'LG 8 kg 5 Star with Steam, Inverter Direct Drive, 6 Motion Direct Drive, Touch Panel and 1400 RPM Full...', 'SAMSUNG 9 kg Fully Automatic Front Load Washing Machine Black', 'Thomson 7 kg 5 Star Aqua Magic Semi Automatic Top Load Washing Machine Blue, White', 'SAMSUNG 9 kg 5 star, Ecobubble, Super Speed, Wi-Fi, Digital Inverter, Hygiene Steam, Fully Automatic T...', 'BOSCH 8 kg AntiTangle,AntiVibration,1400RPM Fully Automatic Front Load Washing Machine with In-built H...', 'IFB 7 kg 5 Star 2X Power Steam,Hard Water Wash Fully Automatic Front Load Washing Machine with In-buil...', 'Thomson 9 kg 5 Star Aqua Magic Double Waterfall Semi Automatic Top Load Washing Machine Black, Grey', 'Thomson 7 kg PureWash Fully Automatic Top Load Washing Machine Grey', 'realme TechLife 6 kg 5 Star Power Clean Fully Automatic Front Load Washing Machine with In-built Heate...', 'IFB 6.5 kg Powered by AI, 5 Star, 4 years Comprehensive Warranty� with 2x Steam Cycle Fully Automatic ...', 'SAMSUNG 8 kg 5 Star, AI Ecobubble,� Wi-Fi, Hygiene Steam,Digital Inverter Fully Automatic Front Load W...', 'SAMSUNG 8 kg 5 Star, Inverter, Hygiene Steam Digital Inverter Fully Automatic Front Load Washing Machi...', 'IFB 6 kg Steam Wash, Hard Water Wash, Active Color Protection 4 years Comprehensive Warranty Fully Aut...', 'LG 7 kg 5 Star with Steam, Inverter Direct Drive Technology, 6 Motion DD, Touch Panel and 1200 RPM Ful...', 'SAMSUNG 6 kg Inverter 5 Star Hygiene Steam Fully Automatic Front Load Washing Machine with In-built He...', 'LG 6.5 kg 5 Star with Steam, Inverter Direct Drive, 6 Motion Direct Drive, Touch Panel, 1000 RPM Fully...', 'IFB 7 kg Powered by AI, 5 Star, 4 years Comprehensive Warranty with 2x Steam Cycle Fully Automatic Fro...', 'Thomson 7.5 kg 5 Star Aqua Magic Semi Automatic Top Load Washing Machine Black, Grey', 'IFB 8 kg Powered by AI, 5 Star, 4 years Comprehensive Warranty with 2x Steam Cycle Fully Automatic Fro...', 'SAMSUNG 6.5 kg with Steam Fully Automatic Front Load Washing Machine with In-built Heater White', 'SAMSUNG 7 kg 5 star, Ecobubble, Super Speed, Digital Inverter, Fully Automatic Top Load Washing Machin...', 'SAMSUNG 9 kg 5 star, Ecobubble, Wi-Fi, Digital Inverter, Fully Automatic Top Load Washing Machine Grey', 'LG 7 kg 5 Star with Steam, Inverter Direct Drive Technology, 6 Motion Direct Drive, Touch Panel and 12...', 'BOSCH 7 kg with Steam Fully Automatic Front Load Washing Machine with In-built Heater Black, Grey', 'LG 8 kg 5 Star with Steam, Inverter Direct Drive, 6 Motion Direct Drive, Touch Panel and 1400 RPM Full...', 'SAMSUNG 9 kg Fully Automatic Front Load Washing Machine Black', 'Thomson 7 kg 5 Star Aqua Magic Semi Automatic Top Load Washing Machine Blue, White', 'SAMSUNG 9 kg 5 star, Ecobubble, Super Speed, Wi-Fi, Digital Inverter, Hygiene Steam, Fully Automatic T...', 'BOSCH 8 kg AntiTangle,AntiVibration,1400RPM Fully Automatic Front Load Washing Machine with In-built H...', 'IFB 7 kg 5 Star 2X Power Steam,Hard Water Wash Fully Automatic Front Load Washing Machine with In-buil...', 'Thomson 9 kg 5 Star Aqua Magic Double Waterfall Semi Automatic Top Load Washing Machine Black, Grey', 'Thomson 7 kg PureWash Fully Automatic Top Load Washing Machine Grey', 'realme TechLife 6 kg 5 Star Power Clean Fully Automatic Front Load Washing Machine with In-built Heate...', 'IFB 6.5 kg Powered by AI, 5 Star, 4 years Comprehensive Warranty� with 2x Steam Cycle Fully Automatic ...', 'SAMSUNG 8 kg 5 Star, AI Ecobubble,� Wi-Fi, Hygiene Steam,Digital Inverter Fully Automatic Front Load W...', 'SAMSUNG 8 kg 5 Star, Inverter, Hygiene Steam Digital Inverter Fully Automatic Front Load Washing Machi...', 'IFB 6 kg Steam Wash, Hard Water Wash, Active Color Protection 4 years Comprehensive Warranty Fully Aut...', 'LG 7 kg 5 Star with Steam, Inverter Direct Drive Technology, 6 Motion DD, Touch Panel and 1200 RPM Ful...', 'SAMSUNG 6 kg Inverter 5 Star Hygiene Steam Fully Automatic Front Load Washing Machine with In-built He...', 'LG 6.5 kg 5 Star with Steam, Inverter Direct Drive, 6 Motion Direct Drive, Touch Panel, 1000 RPM Fully...', 'IFB 7 kg Powered by AI, 5 Star, 4 years Comprehensive Warranty with 2x Steam Cycle Fully Automatic Fro...', 'Thomson 7.5 kg 5 Star Aqua Magic Semi Automatic Top Load Washing Machine Black, Grey', 'IFB 8 kg Powered by AI, 5 Star, 4 years Comprehensive Warranty with 2x Steam Cycle Fully Automatic Fro...', 'SAMSUNG 6.5 kg with Steam Fully Automatic Front Load Washing Machine with In-built Heater White', 'SAMSUNG 7 kg 5 star, Ecobubble, Super Speed, Digital Inverter, Fully Automatic Top Load Washing Machin...', 'SAMSUNG 9 kg 5 star, Ecobubble, Wi-Fi, Digital Inverter, Fully Automatic Top Load Washing Machine Grey', 'LG 7 kg 5 Star with Steam, Inverter Direct Drive Technology, 6 Motion Direct Drive, Touch Panel and 12...', 'BOSCH 7 kg with Steam Fully Automatic Front Load Washing Machine with In-built Heater Black, Grey', 'LG 8 kg 5 Star with Steam, Inverter Direct Drive, 6 Motion Direct Drive, Touch Panel and 1400 RPM Full...', 'SAMSUNG 9 kg Fully Automatic Front Load Washing Machine Black', 'Thomson 7 kg 5 Star Aqua Magic Semi Automatic Top Load Washing Machine Blue, White', 'SAMSUNG 9 kg 5 star, Ecobubble, Super Speed, Wi-Fi, Digital Inverter, Hygiene Steam, Fully Automatic T...', 'BOSCH 8 kg AntiTangle,AntiVibration,1400RPM Fully Automatic Front Load Washing Machine with In-built H...', 'IFB 7 kg 5 Star 2X Power Steam,Hard Water Wash Fully Automatic Front Load Washing Machine with In-buil...', 'Thomson 9 kg 5 Star Aqua Magic Double Waterfall Semi Automatic Top Load Washing Machine Black, Grey', 'Thomson 7 kg PureWash Fully Automatic Top Load Washing Machine Grey', 'realme TechLife 6 kg 5 Star Power Clean Fully Automatic Front Load Washing Machine with In-built Heate...', 'IFB 6.5 kg Powered by AI, 5 Star, 4 years Comprehensive Warranty� with 2x Steam Cycle Fully Automatic ...', 'SAMSUNG 8 kg 5 Star, AI Ecobubble,� Wi-Fi, Hygiene Steam,Digital Inverter Fully Automatic Front Load W...', 'SAMSUNG 8 kg 5 Star, Inverter, Hygiene Steam Digital Inverter Fully Automatic Front Load Washing Machi...', 'IFB 6 kg Steam Wash, Hard Water Wash, Active Color Protection 4 years Comprehensive Warranty Fully Aut...', 'LG 7 kg 5 Star with Steam, Inverter Direct Drive Technology, 6 Motion DD, Touch Panel and 1200 RPM Ful...', 'SAMSUNG 6 kg Inverter 5 Star Hygiene Steam Fully Automatic Front Load Washing Machine with In-built He...', 'LG 6.5 kg 5 Star with Steam, Inverter Direct Drive, 6 Motion Direct Drive, Touch Panel, 1000 RPM Fully...', 'IFB 7 kg Powered by AI, 5 Star, 4 years Comprehensive Warranty with 2x Steam Cycle Fully Automatic Fro...', 'Thomson 7.5 kg 5 Star Aqua Magic Semi Automatic Top Load Washing Machine Black, Grey', 'IFB 8 kg Powered by AI, 5 Star, 4 years Comprehensive Warranty with 2x Steam Cycle Fully Automatic Fro...', 'SAMSUNG 6.5 kg with Steam Fully Automatic Front Load Washing Machine with In-built Heater White', 'SAMSUNG 7 kg 5 star, Ecobubble, Super Speed, Digital Inverter, Fully Automatic Top Load Washing Machin...', 'SAMSUNG 9 kg 5 star, Ecobubble, Wi-Fi, Digital Inverter, Fully Automatic Top Load Washing Machine Grey', 'LG 7 kg 5 Star with Steam, Inverter Direct Drive Technology, 6 Motion Direct Drive, Touch Panel and 12...', 'BOSCH 7 kg with Steam Fully Automatic Front Load Washing Machine with In-built Heater Black, Grey', 'LG 8 kg 5 Star with Steam, Inverter Direct Drive, 6 Motion Direct Drive, Touch Panel and 1400 RPM Full...', 'SAMSUNG 9 kg Fully Automatic Front Load Washing Machine Black', 'Thomson 7 kg 5 Star Aqua Magic Semi Automatic Top Load Washing Machine Blue, White', 'SAMSUNG 9 kg 5 star, Ecobubble, Super Speed, Wi-Fi, Digital Inverter, Hygiene Steam, Fully Automatic T...', 'BOSCH 8 kg AntiTangle,AntiVibration,1400RPM Fully Automatic Front Load Washing Machine with In-built H...', 'IFB 7 kg 5 Star 2X Power Steam,Hard Water Wash Fully Automatic Front Load Washing Machine with In-buil...', 'Thomson 9 kg 5 Star Aqua Magic Double Waterfall Semi Automatic Top Load Washing Machine Black, Grey', 'Thomson 7 kg PureWash Fully Automatic Top Load Washing Machine Grey', 'realme TechLife 6 kg 5 Star Power Clean Fully Automatic Front Load Washing Machine with In-built Heate...', 'IFB 6.5 kg Powered by AI, 5 Star, 4 years Comprehensive Warranty� with 2x Steam Cycle Fully Automatic ...', 'SAMSUNG 8 kg 5 Star, AI Ecobubble,� Wi-Fi, Hygiene Steam,Digital Inverter Fully Automatic Front Load W...', 'SAMSUNG 8 kg 5 Star, Inverter, Hygiene Steam Digital Inverter Fully Automatic Front Load Washing Machi...', 'IFB 6 kg Steam Wash, Hard Water Wash, Active Color Protection 4 years Comprehensive Warranty Fully Aut...', 'LG 7 kg 5 Star with Steam, Inverter Direct Drive Technology, 6 Motion DD, Touch Panel and 1200 RPM Ful...', 'SAMSUNG 6 kg Inverter 5 Star Hygiene Steam Fully Automatic Front Load Washing Machine with In-built He...', 'LG 6.5 kg 5 Star with Steam, Inverter Direct Drive, 6 Motion Direct Drive, Touch Panel, 1000 RPM Fully...', 'IFB 7 kg Powered by AI, 5 Star, 4 years Comprehensive Warranty with 2x Steam Cycle Fully Automatic Fro...', 'Thomson 7.5 kg 5 Star Aqua Magic Semi Automatic Top Load Washing Machine Black, Grey', 'IFB 8 kg Powered by AI, 5 Star, 4 years Comprehensive Warranty with 2x Steam Cycle Fully Automatic Fro...', 'SAMSUNG 6.5 kg with Steam Fully Automatic Front Load Washing Machine with In-built Heater White', 'SAMSUNG 7 kg 5 star, Ecobubble, Super Speed, Digital Inverter, Fully Automatic Top Load Washing Machin...', 'SAMSUNG 9 kg 5 star, Ecobubble, Wi-Fi, Digital Inverter, Fully Automatic Top Load Washing Machine Grey', 'LG 7 kg 5 Star with Steam, Inverter Direct Drive Technology, 6 Motion Direct Drive, Touch Panel and 12...', 'BOSCH 7 kg with Steam Fully Automatic Front Load Washing Machine with In-built Heater Black, Grey', 'LG 8 kg 5 Star with Steam, Inverter Direct Drive, 6 Motion Direct Drive, Touch Panel and 1400 RPM Full...', 'SAMSUNG 9 kg Fully Automatic Front Load Washing Machine Black', 'Thomson 7 kg 5 Star Aqua Magic Semi Automatic Top Load Washing Machine Blue, White', 'SAMSUNG 9 kg 5 star, Ecobubble, Super Speed, Wi-Fi, Digital Inverter, Hygiene Steam, Fully Automatic T...', 'BOSCH 8 kg AntiTangle,AntiVibration,1400RPM Fully Automatic Front Load Washing Machine with In-built H...', 'IFB 7 kg 5 Star 2X Power Steam,Hard Water Wash Fully Automatic Front Load Washing Machine with In-buil...', 'Thomson 9 kg 5 Star Aqua Magic Double Waterfall Semi Automatic Top Load Washing Machine Black, Grey', 'Thomson 7 kg PureWash Fully Automatic Top Load Washing Machine Grey', 'realme TechLife 6 kg 5 Star Power Clean Fully Automatic Front Load Washing Machine with In-built Heate...', 'IFB 6.5 kg Powered by AI, 5 Star, 4 years Comprehensive Warranty� with 2x Steam Cycle Fully Automatic ...', 'SAMSUNG 8 kg 5 Star, AI Ecobubble,� Wi-Fi, Hygiene Steam,Digital Inverter Fully Automatic Front Load W...', 'SAMSUNG 8 kg 5 Star, Inverter, Hygiene Steam Digital Inverter Fully Automatic Front Load Washing Machi...', 'IFB 6 kg Steam Wash, Hard Water Wash, Active Color Protection 4 years Comprehensive Warranty Fully Aut...', 'LG 7 kg 5 Star with Steam, Inverter Direct Drive Technology, 6 Motion DD, Touch Panel and 1200 RPM Ful...', 'SAMSUNG 6 kg Inverter 5 Star Hygiene Steam Fully Automatic Front Load Washing Machine with In-built He...', 'LG 6.5 kg 5 Star with Steam, Inverter Direct Drive, 6 Motion Direct Drive, Touch Panel, 1000 RPM Fully...', 'IFB 7 kg Powered by AI, 5 Star, 4 years Comprehensive Warranty with 2x Steam Cycle Fully Automatic Fro...', 'Thomson 7.5 kg 5 Star Aqua Magic Semi Automatic Top Load Washing Machine Black, Grey', 'IFB 8 kg Powered by AI, 5 Star, 4 years Comprehensive Warranty with 2x Steam Cycle Fully Automatic Fro...', 'SAMSUNG 6.5 kg with Steam Fully Automatic Front Load Washing Machine with In-built Heater White', 'SAMSUNG 7 kg 5 star, Ecobubble, Super Speed, Digital Inverter, Fully Automatic Top Load Washing Machin...', 'SAMSUNG 9 kg 5 star, Ecobubble, Wi-Fi, Digital Inverter, Fully Automatic Top Load Washing Machine Grey', 'LG 7 kg 5 Star with Steam, Inverter Direct Drive Technology, 6 Motion Direct Drive, Touch Panel and 12...', 'BOSCH 7 kg with Steam Fully Automatic Front Load Washing Machine with In-built Heater Black, Grey', 'LG 8 kg 5 Star with Steam, Inverter Direct Drive, 6 Motion Direct Drive, Touch Panel and 1400 RPM Full...', 'SAMSUNG 9 kg Fully Automatic Front Load Washing Machine Black', 'Thomson 7 kg 5 Star Aqua Magic Semi Automatic Top Load Washing Machine Blue, White', 'SAMSUNG 9 kg 5 star, Ecobubble, Super Speed, Wi-Fi, Digital Inverter, Hygiene Steam, Fully Automatic T...', 'BOSCH 8 kg AntiTangle,AntiVibration,1400RPM Fully Automatic Front Load Washing Machine with In-built H...', 'IFB 7 kg 5 Star 2X Power Steam,Hard Water Wash Fully Automatic Front Load Washing Machine with In-buil...', 'Thomson 9 kg 5 Star Aqua Magic Double Waterfall Semi Automatic Top Load Washing Machine Black, Grey', 'Thomson 7 kg PureWash Fully Automatic Top Load Washing Machine Grey', 'realme TechLife 6 kg 5 Star Power Clean Fully Automatic Front Load Washing Machine with In-built Heate...', 'IFB 6.5 kg Powered by AI, 5 Star, 4 years Comprehensive Warranty� with 2x Steam Cycle Fully Automatic ...']\n",
      "SAMSUNG 8 kg 5 Star, Inverter, Hygiene Steam Digital Inverter Fully Automatic Front Load Washing Machi...\n",
      "['₹43,190', '₹32,990', '₹20,990', '₹28,990', '₹23,490', '₹24,990', '₹28,990', '₹7,790', '₹31,990', '₹24,990', '₹19,490', '₹24,990', '₹26,990', '₹30,490', '₹37,999', '₹39,990', '₹7,590', '₹27,990', '₹34,990', '₹30,500', '₹9,690', '₹10,990', '₹18,990', '₹24,990', '₹43,190', '₹32,990', '₹20,990', '₹28,990', '₹23,490', '₹24,990', '₹28,990', '₹7,790', '₹31,990', '₹24,990', '₹24,990', '₹19,490', '₹26,990', '₹30,490', '₹37,999', '₹39,990', '₹27,990', '₹10,990', '₹34,990', '₹30,500', '₹9,690', '₹7,590', '₹18,990', '₹24,990', '₹43,190', '₹32,990', '₹20,990', '₹28,990', '₹23,490', '₹24,990', '₹28,990', '₹7,790', '₹31,990', '₹24,990', '₹19,490', '₹24,990', '₹26,990', '₹30,490', '₹37,999', '₹39,990', '₹7,590', '₹27,990', '₹34,990', '₹30,500', '₹9,690', '₹10,990', '₹18,990', '₹24,990', '₹43,190', '₹32,990', '₹20,990', '₹28,990', '₹23,490', '₹24,990', '₹28,990', '₹7,790', '₹31,990', '₹24,990', '₹19,490', '₹24,990', '₹26,990', '₹30,490', '₹37,999', '₹39,990', '₹7,590', '₹27,990', '₹34,990', '₹30,500', '₹9,690', '₹10,990', '₹18,990', '₹24,990', '₹43,190', '₹32,990', '₹20,990', '₹28,990', '₹23,490', '₹24,990', '₹28,990', '₹7,790', '₹31,990', '₹24,990', '₹19,490', '₹24,990', '₹26,990', '₹30,490', '₹37,999', '₹39,990', '₹7,590', '₹27,990', '₹34,990', '₹30,500', '₹9,690', '₹10,990', '₹18,990', '₹24,990', '₹43,190', '₹32,990', '₹20,990', '₹28,990', '₹23,490', '₹24,990', '₹28,990', '₹7,790', '₹31,990', '₹24,990', '₹19,490', '₹24,990', '₹26,990', '₹30,490', '₹37,999', '₹39,990', '₹7,590', '₹27,990', '₹34,990', '₹30,500', '₹9,690', '₹10,990', '₹18,990', '₹24,990', '₹43,190', '₹32,990', '₹20,990', '₹28,990', '₹23,490', '₹24,990', '₹28,990', '₹7,790', '₹31,990', '₹24,990', '₹19,490', '₹24,990', '₹26,990', '₹30,490', '₹37,999', '₹39,990', '₹7,590', '₹27,990', '₹34,990', '₹30,500', '₹9,690', '₹10,990', '₹18,990', '₹24,990', '₹43,190', '₹32,990', '₹20,990', '₹28,990', '₹23,490', '₹24,990', '₹28,990', '₹7,790', '₹31,990', '₹24,990', '₹19,490', '₹24,990', '₹26,990', '₹30,490', '₹37,999', '₹39,990', '₹7,590', '₹27,990', '₹34,990', '₹30,500', '₹9,690', '₹10,990', '₹18,990', '₹24,990']\n",
      "192\n",
      "192\n",
      "₹43,190\n"
     ]
    }
   ],
   "source": [
    "PNAME=[]\n",
    "PPRICE=[]\n",
    "for i in range (10):\n",
    "    r=requests.get(\"https://www.flipkart.com/home-kitchen/home-appliances/washing-machines/fully-automatic-front-load~function/pr?sid=j9e%2Cabm%2C8qx&otracker=nmenu_sub_TVs%20%26%20Appliances_0_Fully%20Automatic%20Front%20Load\")\n",
    "    soup =BeautifulSoup(r.text,\"html.parser\")\n",
    "\n",
    "\n",
    "    Product_Name = soup.find_all(\"div\",class_=\"_4rR01T\")\n",
    "    for pname in Product_Name:\n",
    "        Names = pname.text\n",
    "        PNAME.append(Names)\n",
    "\n",
    "\n",
    "    Product_Price = soup.find_all(\"div\",class_=\"_30jeq3 _1_WHN1\")\n",
    "    for pprice in Product_Price:\n",
    "        Prices = pprice.text\n",
    "        PPRICE.append(Prices)\n",
    "print(list(PNAME))\n",
    "print(PNAME[1])\n",
    "print(list(PPRICE))\n",
    "print(len(PPRICE))\n",
    "print(len(PNAME))\n",
    "print (PPRICE[0])\n"
   ]
  },
  {
   "cell_type": "code",
   "execution_count": 4,
   "metadata": {},
   "outputs": [
    {
     "name": "stdout",
     "output_type": "stream",
     "text": [
      "200\n"
     ]
    }
   ],
   "source": [
    "print(r.status_code)"
   ]
  },
  {
   "cell_type": "code",
   "execution_count": 5,
   "metadata": {},
   "outputs": [
    {
     "data": {
      "text/html": [
       "<div>\n",
       "<style scoped>\n",
       "    .dataframe tbody tr th:only-of-type {\n",
       "        vertical-align: middle;\n",
       "    }\n",
       "\n",
       "    .dataframe tbody tr th {\n",
       "        vertical-align: top;\n",
       "    }\n",
       "\n",
       "    .dataframe thead th {\n",
       "        text-align: right;\n",
       "    }\n",
       "</style>\n",
       "<table border=\"1\" class=\"dataframe\">\n",
       "  <thead>\n",
       "    <tr style=\"text-align: right;\">\n",
       "      <th></th>\n",
       "      <th>0</th>\n",
       "    </tr>\n",
       "  </thead>\n",
       "  <tbody>\n",
       "    <tr>\n",
       "      <th>₹43,190</th>\n",
       "      <td>SAMSUNG 8 kg 5 Star, AI Ecobubble,� Wi-Fi, Hyg...</td>\n",
       "    </tr>\n",
       "    <tr>\n",
       "      <th>₹32,990</th>\n",
       "      <td>SAMSUNG 8 kg 5 Star, Inverter, Hygiene Steam D...</td>\n",
       "    </tr>\n",
       "    <tr>\n",
       "      <th>₹20,990</th>\n",
       "      <td>IFB 6 kg Steam Wash, Hard Water Wash, Active C...</td>\n",
       "    </tr>\n",
       "    <tr>\n",
       "      <th>₹28,990</th>\n",
       "      <td>LG 7 kg 5 Star with Steam, Inverter Direct Dri...</td>\n",
       "    </tr>\n",
       "    <tr>\n",
       "      <th>₹23,490</th>\n",
       "      <td>SAMSUNG 6 kg Inverter 5 Star Hygiene Steam Ful...</td>\n",
       "    </tr>\n",
       "    <tr>\n",
       "      <th>...</th>\n",
       "      <td>...</td>\n",
       "    </tr>\n",
       "    <tr>\n",
       "      <th>₹30,500</th>\n",
       "      <td>IFB 7 kg 5 Star 2X Power Steam,Hard Water Wash...</td>\n",
       "    </tr>\n",
       "    <tr>\n",
       "      <th>₹9,690</th>\n",
       "      <td>Thomson 9 kg 5 Star Aqua Magic Double Waterfal...</td>\n",
       "    </tr>\n",
       "    <tr>\n",
       "      <th>₹10,990</th>\n",
       "      <td>Thomson 7 kg PureWash Fully Automatic Top Load...</td>\n",
       "    </tr>\n",
       "    <tr>\n",
       "      <th>₹18,990</th>\n",
       "      <td>realme TechLife 6 kg 5 Star Power Clean Fully ...</td>\n",
       "    </tr>\n",
       "    <tr>\n",
       "      <th>₹24,990</th>\n",
       "      <td>IFB 6.5 kg Powered by AI, 5 Star, 4 years Comp...</td>\n",
       "    </tr>\n",
       "  </tbody>\n",
       "</table>\n",
       "<p>192 rows × 1 columns</p>\n",
       "</div>"
      ],
      "text/plain": [
       "                                                         0\n",
       "₹43,190  SAMSUNG 8 kg 5 Star, AI Ecobubble,� Wi-Fi, Hyg...\n",
       "₹32,990  SAMSUNG 8 kg 5 Star, Inverter, Hygiene Steam D...\n",
       "₹20,990  IFB 6 kg Steam Wash, Hard Water Wash, Active C...\n",
       "₹28,990  LG 7 kg 5 Star with Steam, Inverter Direct Dri...\n",
       "₹23,490  SAMSUNG 6 kg Inverter 5 Star Hygiene Steam Ful...\n",
       "...                                                    ...\n",
       "₹30,500  IFB 7 kg 5 Star 2X Power Steam,Hard Water Wash...\n",
       "₹9,690   Thomson 9 kg 5 Star Aqua Magic Double Waterfal...\n",
       "₹10,990  Thomson 7 kg PureWash Fully Automatic Top Load...\n",
       "₹18,990  realme TechLife 6 kg 5 Star Power Clean Fully ...\n",
       "₹24,990  IFB 6.5 kg Powered by AI, 5 Star, 4 years Comp...\n",
       "\n",
       "[192 rows x 1 columns]"
      ]
     },
     "execution_count": 5,
     "metadata": {},
     "output_type": "execute_result"
    }
   ],
   "source": [
    "df = pd.DataFrame(PNAME,PPRICE)\n",
    "df"
   ]
  },
  {
   "cell_type": "code",
   "execution_count": 6,
   "metadata": {},
   "outputs": [
    {
     "name": "stdout",
     "output_type": "stream",
     "text": [
      "Scraped data has been successfully written to scraped_data.xlsx\n"
     ]
    }
   ],
   "source": [
    "# Create a DataFrame from the scraped data\n",
    "df = pd.DataFrame({'Product Name': PNAME, 'Product Price': PPRICE})\n",
    "\n",
    "# Specify the Excel file path\n",
    "excel_file_path = 'scraped_data.xlsx'\n",
    "\n",
    "# Write the DataFrame to an Excel file\n",
    "df.to_excel(excel_file_path, index=False)\n",
    "\n",
    "print(f'Scraped data has been successfully written to {excel_file_path}')"
   ]
  }
 ],
 "metadata": {
  "kernelspec": {
   "display_name": "pythonlab",
   "language": "python",
   "name": "pythonlab"
  },
  "language_info": {
   "codemirror_mode": {
    "name": "ipython",
    "version": 3
   },
   "file_extension": ".py",
   "mimetype": "text/x-python",
   "name": "python",
   "nbconvert_exporter": "python",
   "pygments_lexer": "ipython3",
   "version": "3.11.5"
  }
 },
 "nbformat": 4,
 "nbformat_minor": 2
}
